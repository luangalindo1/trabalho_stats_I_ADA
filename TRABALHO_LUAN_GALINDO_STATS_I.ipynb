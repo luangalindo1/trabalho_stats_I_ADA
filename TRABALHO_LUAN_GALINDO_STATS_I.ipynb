{
 "cells": [
  {
   "cell_type": "markdown",
   "metadata": {},
   "source": [
    "# Trabalho de estatítstica I - ADA Data Science \n",
    "\n",
    "## Luan Fábio Marinho Galindo\n"
   ]
  },
  {
   "cell_type": "markdown",
   "metadata": {},
   "source": [
    "### Descrição do projeto\n",
    "\n",
    "Será feita uma análise e filtragem de um banco de dados de preços de combustíveis no Brasil.\n",
    "O objetivo é entender o comportamento desses preços e adquirir algum insight sobre os preços\n",
    "desse ativo.\n",
    "\n",
    "Link para Dataset: https://www.kaggle.com/datasets/matheusfreitag/gas-prices-in-brazil"
   ]
  },
  {
   "cell_type": "code",
   "execution_count": 76,
   "metadata": {},
   "outputs": [],
   "source": [
    "# Bibliotecas\n",
    "\n",
    "import pandas as pd\n",
    "import matplotlib.pyplot as plt\n",
    "import seaborn as sns\n",
    "import os\n",
    "from kaggle.api.kaggle_api_extended import KaggleApi\n",
    "from scipy.stats import skew"
   ]
  },
  {
   "cell_type": "code",
   "execution_count": 27,
   "metadata": {},
   "outputs": [
    {
     "name": "stdout",
     "output_type": "stream",
     "text": [
      "Warning: Your Kaggle API key is readable by other users on this system! To fix this, you can run 'chmod 600 /home/luanfabiomg/.kaggle/kaggle.json'\n",
      "Dataset URL: https://www.kaggle.com/datasets/matheusfreitag/gas-prices-in-brazil\n"
     ]
    }
   ],
   "source": [
    "# Importação dos dados via API do Kaggle\n",
    "\n",
    "# Inicializando a API\n",
    "api = KaggleApi()\n",
    "api.authenticate()\n",
    "\n",
    "# Definindo o caminho do dataset\n",
    "dataset_path = 'matheusfreitag/gas-prices-in-brazil'\n",
    "\n",
    "diretorio = (os.getcwd() + '//dataset')\n",
    "# Baixando o dataset\n",
    "api.dataset_download_files(dataset_path, path=diretorio, unzip=True)\n",
    "# Certifique-se de usar path= diretório onde você deseja que os arquivos sejam baixados\n",
    "\n",
    "data = pd.read_csv((diretorio + '//2004-2021.tsv'), sep='\\t' )"
   ]
  },
  {
   "cell_type": "markdown",
   "metadata": {},
   "source": [
    "Investigando e entendendo os dados via head() e info()\n",
    "\n",
    "A primeira parte do trabalho será o tratamento dos dados para posteriores análises."
   ]
  },
  {
   "cell_type": "code",
   "execution_count": 10,
   "metadata": {},
   "outputs": [
    {
     "data": {
      "text/html": [
       "<div>\n",
       "<style scoped>\n",
       "    .dataframe tbody tr th:only-of-type {\n",
       "        vertical-align: middle;\n",
       "    }\n",
       "\n",
       "    .dataframe tbody tr th {\n",
       "        vertical-align: top;\n",
       "    }\n",
       "\n",
       "    .dataframe thead th {\n",
       "        text-align: right;\n",
       "    }\n",
       "</style>\n",
       "<table border=\"1\" class=\"dataframe\">\n",
       "  <thead>\n",
       "    <tr style=\"text-align: right;\">\n",
       "      <th></th>\n",
       "      <th>DATA INICIAL</th>\n",
       "      <th>DATA FINAL</th>\n",
       "      <th>REGIÃO</th>\n",
       "      <th>ESTADO</th>\n",
       "      <th>PRODUTO</th>\n",
       "      <th>NÚMERO DE POSTOS PESQUISADOS</th>\n",
       "      <th>UNIDADE DE MEDIDA</th>\n",
       "      <th>PREÇO MÉDIO REVENDA</th>\n",
       "      <th>DESVIO PADRÃO REVENDA</th>\n",
       "      <th>PREÇO MÍNIMO REVENDA</th>\n",
       "      <th>PREÇO MÁXIMO REVENDA</th>\n",
       "      <th>MARGEM MÉDIA REVENDA</th>\n",
       "      <th>COEF DE VARIAÇÃO REVENDA</th>\n",
       "      <th>PREÇO MÉDIO DISTRIBUIÇÃO</th>\n",
       "      <th>DESVIO PADRÃO DISTRIBUIÇÃO</th>\n",
       "      <th>PREÇO MÍNIMO DISTRIBUIÇÃO</th>\n",
       "      <th>PREÇO MÁXIMO DISTRIBUIÇÃO</th>\n",
       "      <th>COEF DE VARIAÇÃO DISTRIBUIÇÃO</th>\n",
       "    </tr>\n",
       "  </thead>\n",
       "  <tbody>\n",
       "    <tr>\n",
       "      <th>0</th>\n",
       "      <td>2004-05-09</td>\n",
       "      <td>2004-05-15</td>\n",
       "      <td>CENTRO OESTE</td>\n",
       "      <td>DISTRITO FEDERAL</td>\n",
       "      <td>ETANOL HIDRATADO</td>\n",
       "      <td>127</td>\n",
       "      <td>R$/l</td>\n",
       "      <td>1.288</td>\n",
       "      <td>0.016</td>\n",
       "      <td>1.190</td>\n",
       "      <td>1.350</td>\n",
       "      <td>0.463</td>\n",
       "      <td>0.012</td>\n",
       "      <td>0.825</td>\n",
       "      <td>0.11</td>\n",
       "      <td>0.4201</td>\n",
       "      <td>0.9666</td>\n",
       "      <td>0.133</td>\n",
       "    </tr>\n",
       "    <tr>\n",
       "      <th>1</th>\n",
       "      <td>2004-05-09</td>\n",
       "      <td>2004-05-15</td>\n",
       "      <td>CENTRO OESTE</td>\n",
       "      <td>GOIAS</td>\n",
       "      <td>ETANOL HIDRATADO</td>\n",
       "      <td>387</td>\n",
       "      <td>R$/l</td>\n",
       "      <td>1.162</td>\n",
       "      <td>0.114</td>\n",
       "      <td>0.890</td>\n",
       "      <td>1.449</td>\n",
       "      <td>0.399</td>\n",
       "      <td>0.098</td>\n",
       "      <td>0.763</td>\n",
       "      <td>0.088</td>\n",
       "      <td>0.5013</td>\n",
       "      <td>1.05</td>\n",
       "      <td>0.115</td>\n",
       "    </tr>\n",
       "    <tr>\n",
       "      <th>2</th>\n",
       "      <td>2004-05-09</td>\n",
       "      <td>2004-05-15</td>\n",
       "      <td>CENTRO OESTE</td>\n",
       "      <td>MATO GROSSO</td>\n",
       "      <td>ETANOL HIDRATADO</td>\n",
       "      <td>192</td>\n",
       "      <td>R$/l</td>\n",
       "      <td>1.389</td>\n",
       "      <td>0.097</td>\n",
       "      <td>1.180</td>\n",
       "      <td>1.760</td>\n",
       "      <td>0.419</td>\n",
       "      <td>0.070</td>\n",
       "      <td>0.97</td>\n",
       "      <td>0.095</td>\n",
       "      <td>0.5614</td>\n",
       "      <td>1.161</td>\n",
       "      <td>0.098</td>\n",
       "    </tr>\n",
       "    <tr>\n",
       "      <th>3</th>\n",
       "      <td>2004-05-09</td>\n",
       "      <td>2004-05-15</td>\n",
       "      <td>CENTRO OESTE</td>\n",
       "      <td>MATO GROSSO DO SUL</td>\n",
       "      <td>ETANOL HIDRATADO</td>\n",
       "      <td>162</td>\n",
       "      <td>R$/l</td>\n",
       "      <td>1.262</td>\n",
       "      <td>0.070</td>\n",
       "      <td>1.090</td>\n",
       "      <td>1.509</td>\n",
       "      <td>0.432</td>\n",
       "      <td>0.055</td>\n",
       "      <td>0.83</td>\n",
       "      <td>0.119</td>\n",
       "      <td>0.5991</td>\n",
       "      <td>1.22242</td>\n",
       "      <td>0.143</td>\n",
       "    </tr>\n",
       "    <tr>\n",
       "      <th>4</th>\n",
       "      <td>2004-05-09</td>\n",
       "      <td>2004-05-15</td>\n",
       "      <td>NORDESTE</td>\n",
       "      <td>ALAGOAS</td>\n",
       "      <td>ETANOL HIDRATADO</td>\n",
       "      <td>103</td>\n",
       "      <td>R$/l</td>\n",
       "      <td>1.181</td>\n",
       "      <td>0.078</td>\n",
       "      <td>1.050</td>\n",
       "      <td>1.400</td>\n",
       "      <td>0.24</td>\n",
       "      <td>0.066</td>\n",
       "      <td>0.941</td>\n",
       "      <td>0.077</td>\n",
       "      <td>0.7441</td>\n",
       "      <td>1.0317</td>\n",
       "      <td>0.082</td>\n",
       "    </tr>\n",
       "    <tr>\n",
       "      <th>5</th>\n",
       "      <td>2004-05-09</td>\n",
       "      <td>2004-05-15</td>\n",
       "      <td>NORDESTE</td>\n",
       "      <td>BAHIA</td>\n",
       "      <td>ETANOL HIDRATADO</td>\n",
       "      <td>408</td>\n",
       "      <td>R$/l</td>\n",
       "      <td>1.383</td>\n",
       "      <td>0.132</td>\n",
       "      <td>0.999</td>\n",
       "      <td>2.050</td>\n",
       "      <td>0.426</td>\n",
       "      <td>0.095</td>\n",
       "      <td>0.957</td>\n",
       "      <td>0.128</td>\n",
       "      <td>0.5686</td>\n",
       "      <td>1.35</td>\n",
       "      <td>0.134</td>\n",
       "    </tr>\n",
       "    <tr>\n",
       "      <th>6</th>\n",
       "      <td>2004-05-09</td>\n",
       "      <td>2004-05-15</td>\n",
       "      <td>NORDESTE</td>\n",
       "      <td>CEARA</td>\n",
       "      <td>ETANOL HIDRATADO</td>\n",
       "      <td>278</td>\n",
       "      <td>R$/l</td>\n",
       "      <td>1.453</td>\n",
       "      <td>0.218</td>\n",
       "      <td>1.030</td>\n",
       "      <td>1.950</td>\n",
       "      <td>0.353</td>\n",
       "      <td>0.150</td>\n",
       "      <td>1.1</td>\n",
       "      <td>0.068</td>\n",
       "      <td>0.7332</td>\n",
       "      <td>1.294</td>\n",
       "      <td>0.062</td>\n",
       "    </tr>\n",
       "    <tr>\n",
       "      <th>7</th>\n",
       "      <td>2004-05-09</td>\n",
       "      <td>2004-05-15</td>\n",
       "      <td>NORDESTE</td>\n",
       "      <td>MARANHAO</td>\n",
       "      <td>ETANOL HIDRATADO</td>\n",
       "      <td>105</td>\n",
       "      <td>R$/l</td>\n",
       "      <td>1.631</td>\n",
       "      <td>0.158</td>\n",
       "      <td>1.350</td>\n",
       "      <td>2.000</td>\n",
       "      <td>0.515</td>\n",
       "      <td>0.097</td>\n",
       "      <td>1.116</td>\n",
       "      <td>0.091</td>\n",
       "      <td>0.9923</td>\n",
       "      <td>1.36183</td>\n",
       "      <td>0.082</td>\n",
       "    </tr>\n",
       "    <tr>\n",
       "      <th>8</th>\n",
       "      <td>2004-05-09</td>\n",
       "      <td>2004-05-15</td>\n",
       "      <td>NORDESTE</td>\n",
       "      <td>PARAIBA</td>\n",
       "      <td>ETANOL HIDRATADO</td>\n",
       "      <td>125</td>\n",
       "      <td>R$/l</td>\n",
       "      <td>1.284</td>\n",
       "      <td>0.130</td>\n",
       "      <td>1.100</td>\n",
       "      <td>1.699</td>\n",
       "      <td>0.353</td>\n",
       "      <td>0.101</td>\n",
       "      <td>0.931</td>\n",
       "      <td>0.072</td>\n",
       "      <td>0.7577</td>\n",
       "      <td>1.2972</td>\n",
       "      <td>0.077</td>\n",
       "    </tr>\n",
       "    <tr>\n",
       "      <th>9</th>\n",
       "      <td>2004-05-09</td>\n",
       "      <td>2004-05-15</td>\n",
       "      <td>NORDESTE</td>\n",
       "      <td>PERNAMBUCO</td>\n",
       "      <td>ETANOL HIDRATADO</td>\n",
       "      <td>423</td>\n",
       "      <td>R$/l</td>\n",
       "      <td>1.224</td>\n",
       "      <td>0.141</td>\n",
       "      <td>0.989</td>\n",
       "      <td>1.700</td>\n",
       "      <td>0.277</td>\n",
       "      <td>0.115</td>\n",
       "      <td>0.947</td>\n",
       "      <td>0.091</td>\n",
       "      <td>0.5643</td>\n",
       "      <td>1.3541</td>\n",
       "      <td>0.096</td>\n",
       "    </tr>\n",
       "  </tbody>\n",
       "</table>\n",
       "</div>"
      ],
      "text/plain": [
       "  DATA INICIAL  DATA FINAL        REGIÃO              ESTADO  \\\n",
       "0   2004-05-09  2004-05-15  CENTRO OESTE    DISTRITO FEDERAL   \n",
       "1   2004-05-09  2004-05-15  CENTRO OESTE               GOIAS   \n",
       "2   2004-05-09  2004-05-15  CENTRO OESTE         MATO GROSSO   \n",
       "3   2004-05-09  2004-05-15  CENTRO OESTE  MATO GROSSO DO SUL   \n",
       "4   2004-05-09  2004-05-15      NORDESTE             ALAGOAS   \n",
       "5   2004-05-09  2004-05-15      NORDESTE               BAHIA   \n",
       "6   2004-05-09  2004-05-15      NORDESTE               CEARA   \n",
       "7   2004-05-09  2004-05-15      NORDESTE            MARANHAO   \n",
       "8   2004-05-09  2004-05-15      NORDESTE             PARAIBA   \n",
       "9   2004-05-09  2004-05-15      NORDESTE          PERNAMBUCO   \n",
       "\n",
       "            PRODUTO  NÚMERO DE POSTOS PESQUISADOS UNIDADE DE MEDIDA  \\\n",
       "0  ETANOL HIDRATADO                           127              R$/l   \n",
       "1  ETANOL HIDRATADO                           387              R$/l   \n",
       "2  ETANOL HIDRATADO                           192              R$/l   \n",
       "3  ETANOL HIDRATADO                           162              R$/l   \n",
       "4  ETANOL HIDRATADO                           103              R$/l   \n",
       "5  ETANOL HIDRATADO                           408              R$/l   \n",
       "6  ETANOL HIDRATADO                           278              R$/l   \n",
       "7  ETANOL HIDRATADO                           105              R$/l   \n",
       "8  ETANOL HIDRATADO                           125              R$/l   \n",
       "9  ETANOL HIDRATADO                           423              R$/l   \n",
       "\n",
       "   PREÇO MÉDIO REVENDA  DESVIO PADRÃO REVENDA  PREÇO MÍNIMO REVENDA  \\\n",
       "0                1.288                  0.016                 1.190   \n",
       "1                1.162                  0.114                 0.890   \n",
       "2                1.389                  0.097                 1.180   \n",
       "3                1.262                  0.070                 1.090   \n",
       "4                1.181                  0.078                 1.050   \n",
       "5                1.383                  0.132                 0.999   \n",
       "6                1.453                  0.218                 1.030   \n",
       "7                1.631                  0.158                 1.350   \n",
       "8                1.284                  0.130                 1.100   \n",
       "9                1.224                  0.141                 0.989   \n",
       "\n",
       "   PREÇO MÁXIMO REVENDA MARGEM MÉDIA REVENDA  COEF DE VARIAÇÃO REVENDA  \\\n",
       "0                 1.350                0.463                     0.012   \n",
       "1                 1.449                0.399                     0.098   \n",
       "2                 1.760                0.419                     0.070   \n",
       "3                 1.509                0.432                     0.055   \n",
       "4                 1.400                 0.24                     0.066   \n",
       "5                 2.050                0.426                     0.095   \n",
       "6                 1.950                0.353                     0.150   \n",
       "7                 2.000                0.515                     0.097   \n",
       "8                 1.699                0.353                     0.101   \n",
       "9                 1.700                0.277                     0.115   \n",
       "\n",
       "  PREÇO MÉDIO DISTRIBUIÇÃO DESVIO PADRÃO DISTRIBUIÇÃO  \\\n",
       "0                    0.825                       0.11   \n",
       "1                    0.763                      0.088   \n",
       "2                     0.97                      0.095   \n",
       "3                     0.83                      0.119   \n",
       "4                    0.941                      0.077   \n",
       "5                    0.957                      0.128   \n",
       "6                      1.1                      0.068   \n",
       "7                    1.116                      0.091   \n",
       "8                    0.931                      0.072   \n",
       "9                    0.947                      0.091   \n",
       "\n",
       "  PREÇO MÍNIMO DISTRIBUIÇÃO PREÇO MÁXIMO DISTRIBUIÇÃO  \\\n",
       "0                    0.4201                    0.9666   \n",
       "1                    0.5013                      1.05   \n",
       "2                    0.5614                     1.161   \n",
       "3                    0.5991                   1.22242   \n",
       "4                    0.7441                    1.0317   \n",
       "5                    0.5686                      1.35   \n",
       "6                    0.7332                     1.294   \n",
       "7                    0.9923                   1.36183   \n",
       "8                    0.7577                    1.2972   \n",
       "9                    0.5643                    1.3541   \n",
       "\n",
       "  COEF DE VARIAÇÃO DISTRIBUIÇÃO  \n",
       "0                         0.133  \n",
       "1                         0.115  \n",
       "2                         0.098  \n",
       "3                         0.143  \n",
       "4                         0.082  \n",
       "5                         0.134  \n",
       "6                         0.062  \n",
       "7                         0.082  \n",
       "8                         0.077  \n",
       "9                         0.096  "
      ]
     },
     "execution_count": 10,
     "metadata": {},
     "output_type": "execute_result"
    }
   ],
   "source": [
    "data.head(10)"
   ]
  },
  {
   "cell_type": "code",
   "execution_count": 7,
   "metadata": {},
   "outputs": [
    {
     "name": "stdout",
     "output_type": "stream",
     "text": [
      "<class 'pandas.core.frame.DataFrame'>\n",
      "RangeIndex: 120823 entries, 0 to 120822\n",
      "Data columns (total 18 columns):\n",
      " #   Column                         Non-Null Count   Dtype  \n",
      "---  ------                         --------------   -----  \n",
      " 0   DATA INICIAL                   120823 non-null  object \n",
      " 1   DATA FINAL                     120823 non-null  object \n",
      " 2   REGIÃO                         120823 non-null  object \n",
      " 3   ESTADO                         120823 non-null  object \n",
      " 4   PRODUTO                        120823 non-null  object \n",
      " 5   NÚMERO DE POSTOS PESQUISADOS   120823 non-null  int64  \n",
      " 6   UNIDADE DE MEDIDA              120823 non-null  object \n",
      " 7   PREÇO MÉDIO REVENDA            120823 non-null  float64\n",
      " 8   DESVIO PADRÃO REVENDA          120823 non-null  float64\n",
      " 9   PREÇO MÍNIMO REVENDA           120823 non-null  float64\n",
      " 10  PREÇO MÁXIMO REVENDA           120823 non-null  float64\n",
      " 11  MARGEM MÉDIA REVENDA           120823 non-null  object \n",
      " 12  COEF DE VARIAÇÃO REVENDA       120823 non-null  float64\n",
      " 13  PREÇO MÉDIO DISTRIBUIÇÃO       120823 non-null  object \n",
      " 14  DESVIO PADRÃO DISTRIBUIÇÃO     120823 non-null  object \n",
      " 15  PREÇO MÍNIMO DISTRIBUIÇÃO      120823 non-null  object \n",
      " 16  PREÇO MÁXIMO DISTRIBUIÇÃO      120823 non-null  object \n",
      " 17  COEF DE VARIAÇÃO DISTRIBUIÇÃO  120823 non-null  object \n",
      "dtypes: float64(5), int64(1), object(12)\n",
      "memory usage: 16.6+ MB\n"
     ]
    }
   ],
   "source": [
    "data.info()"
   ]
  },
  {
   "cell_type": "markdown",
   "metadata": {},
   "source": [
    "Pode ser conveniente fazermos manipulações usando datas\n",
    "\n",
    "Por isso, verifiraremos se as datas estão formatadas convenientemente."
   ]
  },
  {
   "cell_type": "code",
   "execution_count": 28,
   "metadata": {},
   "outputs": [
    {
     "data": {
      "text/plain": [
       "str"
      ]
     },
     "execution_count": 28,
     "metadata": {},
     "output_type": "execute_result"
    }
   ],
   "source": [
    "type(data['DATA INICIAL'][3])"
   ]
  },
  {
   "cell_type": "markdown",
   "metadata": {},
   "source": [
    "Como os valores de data estão em formatos de strings, formateremos esses dados."
   ]
  },
  {
   "cell_type": "code",
   "execution_count": 29,
   "metadata": {},
   "outputs": [],
   "source": [
    "data['DATA INICIAL'] = pd.to_datetime(data['DATA INICIAL'])\n",
    "data['DATA FINAL'] = pd.to_datetime(data['DATA FINAL'])\n",
    "\n",
    "pd.options.display.date_dayfirst = True"
   ]
  },
  {
   "cell_type": "markdown",
   "metadata": {},
   "source": [
    "Agora, veremos os diferentes produtos listados no dataframe"
   ]
  },
  {
   "cell_type": "code",
   "execution_count": 14,
   "metadata": {},
   "outputs": [
    {
     "data": {
      "text/plain": [
       "PRODUTO\n",
       "GASOLINA COMUM        23570\n",
       "GLP                   23561\n",
       "ETANOL HIDRATADO      23440\n",
       "ÓLEO DIESEL           21194\n",
       "GNV                   14469\n",
       "ÓLEO DIESEL S10        9113\n",
       "OLEO DIESEL S10        2376\n",
       "OLEO DIESEL            2351\n",
       "GASOLINA ADITIVADA      749\n",
       "Name: count, dtype: int64"
      ]
     },
     "execution_count": 14,
     "metadata": {},
     "output_type": "execute_result"
    }
   ],
   "source": [
    "data['PRODUTO'].value_counts()"
   ]
  },
  {
   "cell_type": "markdown",
   "metadata": {},
   "source": [
    "Com isso, escolheremos arbitrariamente a gasolina comum em 2020 (preços de revenda) para nos aprofundar em\n",
    "nossas análises estatísticas\n",
    "\n",
    "Assim, calcularemos média, mediana, quartis, percentis, assimetria, moda e correlação\n",
    "\n",
    "Os dados de desvio padrão e coeficiente de variação já vieram datados no dataset."
   ]
  },
  {
   "cell_type": "code",
   "execution_count": 33,
   "metadata": {},
   "outputs": [
    {
     "data": {
      "text/html": [
       "<div>\n",
       "<style scoped>\n",
       "    .dataframe tbody tr th:only-of-type {\n",
       "        vertical-align: middle;\n",
       "    }\n",
       "\n",
       "    .dataframe tbody tr th {\n",
       "        vertical-align: top;\n",
       "    }\n",
       "\n",
       "    .dataframe thead th {\n",
       "        text-align: right;\n",
       "    }\n",
       "</style>\n",
       "<table border=\"1\" class=\"dataframe\">\n",
       "  <thead>\n",
       "    <tr style=\"text-align: right;\">\n",
       "      <th></th>\n",
       "      <th>DATA INICIAL</th>\n",
       "      <th>DATA FINAL</th>\n",
       "      <th>REGIÃO</th>\n",
       "      <th>ESTADO</th>\n",
       "      <th>PRODUTO</th>\n",
       "      <th>NÚMERO DE POSTOS PESQUISADOS</th>\n",
       "      <th>UNIDADE DE MEDIDA</th>\n",
       "      <th>PREÇO MÉDIO REVENDA</th>\n",
       "      <th>DESVIO PADRÃO REVENDA</th>\n",
       "      <th>PREÇO MÍNIMO REVENDA</th>\n",
       "      <th>PREÇO MÁXIMO REVENDA</th>\n",
       "      <th>MARGEM MÉDIA REVENDA</th>\n",
       "      <th>COEF DE VARIAÇÃO REVENDA</th>\n",
       "      <th>PREÇO MÉDIO DISTRIBUIÇÃO</th>\n",
       "      <th>DESVIO PADRÃO DISTRIBUIÇÃO</th>\n",
       "      <th>PREÇO MÍNIMO DISTRIBUIÇÃO</th>\n",
       "      <th>PREÇO MÁXIMO DISTRIBUIÇÃO</th>\n",
       "      <th>COEF DE VARIAÇÃO DISTRIBUIÇÃO</th>\n",
       "    </tr>\n",
       "  </thead>\n",
       "  <tbody>\n",
       "    <tr>\n",
       "      <th>110758</th>\n",
       "      <td>2019-12-29</td>\n",
       "      <td>2020-01-04</td>\n",
       "      <td>NORTE</td>\n",
       "      <td>ACRE</td>\n",
       "      <td>GASOLINA COMUM</td>\n",
       "      <td>39</td>\n",
       "      <td>R$/l</td>\n",
       "      <td>4.914</td>\n",
       "      <td>0.109</td>\n",
       "      <td>4.770</td>\n",
       "      <td>5.200</td>\n",
       "      <td>0.614</td>\n",
       "      <td>0.022</td>\n",
       "      <td>4.3</td>\n",
       "      <td>0.074</td>\n",
       "      <td>4.202</td>\n",
       "      <td>4.4089</td>\n",
       "      <td>0.017</td>\n",
       "    </tr>\n",
       "    <tr>\n",
       "      <th>110759</th>\n",
       "      <td>2019-12-29</td>\n",
       "      <td>2020-01-04</td>\n",
       "      <td>NORDESTE</td>\n",
       "      <td>ALAGOAS</td>\n",
       "      <td>GASOLINA COMUM</td>\n",
       "      <td>57</td>\n",
       "      <td>R$/l</td>\n",
       "      <td>4.554</td>\n",
       "      <td>0.230</td>\n",
       "      <td>4.259</td>\n",
       "      <td>5.110</td>\n",
       "      <td>0.339</td>\n",
       "      <td>0.051</td>\n",
       "      <td>4.215</td>\n",
       "      <td>0.058</td>\n",
       "      <td>4.0914</td>\n",
       "      <td>4.3189</td>\n",
       "      <td>0.014</td>\n",
       "    </tr>\n",
       "    <tr>\n",
       "      <th>110760</th>\n",
       "      <td>2019-12-29</td>\n",
       "      <td>2020-01-04</td>\n",
       "      <td>NORTE</td>\n",
       "      <td>AMAPA</td>\n",
       "      <td>GASOLINA COMUM</td>\n",
       "      <td>28</td>\n",
       "      <td>R$/l</td>\n",
       "      <td>4.026</td>\n",
       "      <td>0.123</td>\n",
       "      <td>3.900</td>\n",
       "      <td>4.490</td>\n",
       "      <td>0.183</td>\n",
       "      <td>0.031</td>\n",
       "      <td>3.843</td>\n",
       "      <td>0.031</td>\n",
       "      <td>3.8062</td>\n",
       "      <td>3.8857</td>\n",
       "      <td>0.008</td>\n",
       "    </tr>\n",
       "    <tr>\n",
       "      <th>110761</th>\n",
       "      <td>2019-12-29</td>\n",
       "      <td>2020-01-04</td>\n",
       "      <td>NORTE</td>\n",
       "      <td>AMAZONAS</td>\n",
       "      <td>GASOLINA COMUM</td>\n",
       "      <td>75</td>\n",
       "      <td>R$/l</td>\n",
       "      <td>4.042</td>\n",
       "      <td>0.484</td>\n",
       "      <td>3.859</td>\n",
       "      <td>5.350</td>\n",
       "      <td>0.258</td>\n",
       "      <td>0.120</td>\n",
       "      <td>3.784</td>\n",
       "      <td>0.142</td>\n",
       "      <td>3.69</td>\n",
       "      <td>4.2</td>\n",
       "      <td>0.038</td>\n",
       "    </tr>\n",
       "    <tr>\n",
       "      <th>110762</th>\n",
       "      <td>2019-12-29</td>\n",
       "      <td>2020-01-04</td>\n",
       "      <td>NORDESTE</td>\n",
       "      <td>BAHIA</td>\n",
       "      <td>GASOLINA COMUM</td>\n",
       "      <td>336</td>\n",
       "      <td>R$/l</td>\n",
       "      <td>4.712</td>\n",
       "      <td>0.144</td>\n",
       "      <td>4.390</td>\n",
       "      <td>5.199</td>\n",
       "      <td>0.612</td>\n",
       "      <td>0.031</td>\n",
       "      <td>4.1</td>\n",
       "      <td>0.081</td>\n",
       "      <td>3.96</td>\n",
       "      <td>4.446</td>\n",
       "      <td>0.02</td>\n",
       "    </tr>\n",
       "    <tr>\n",
       "      <th>110763</th>\n",
       "      <td>2019-12-29</td>\n",
       "      <td>2020-01-04</td>\n",
       "      <td>NORDESTE</td>\n",
       "      <td>CEARA</td>\n",
       "      <td>GASOLINA COMUM</td>\n",
       "      <td>218</td>\n",
       "      <td>R$/l</td>\n",
       "      <td>4.695</td>\n",
       "      <td>0.078</td>\n",
       "      <td>4.390</td>\n",
       "      <td>4.959</td>\n",
       "      <td>0.475</td>\n",
       "      <td>0.017</td>\n",
       "      <td>4.22</td>\n",
       "      <td>0.06</td>\n",
       "      <td>3.9989</td>\n",
       "      <td>4.3282</td>\n",
       "      <td>0.014</td>\n",
       "    </tr>\n",
       "    <tr>\n",
       "      <th>110764</th>\n",
       "      <td>2019-12-29</td>\n",
       "      <td>2020-01-04</td>\n",
       "      <td>CENTRO OESTE</td>\n",
       "      <td>DISTRITO FEDERAL</td>\n",
       "      <td>GASOLINA COMUM</td>\n",
       "      <td>47</td>\n",
       "      <td>R$/l</td>\n",
       "      <td>4.503</td>\n",
       "      <td>0.097</td>\n",
       "      <td>4.299</td>\n",
       "      <td>4.699</td>\n",
       "      <td>0.301</td>\n",
       "      <td>0.022</td>\n",
       "      <td>4.202</td>\n",
       "      <td>0.061</td>\n",
       "      <td>4.075</td>\n",
       "      <td>4.2805</td>\n",
       "      <td>0.015</td>\n",
       "    </tr>\n",
       "    <tr>\n",
       "      <th>110765</th>\n",
       "      <td>2019-12-29</td>\n",
       "      <td>2020-01-04</td>\n",
       "      <td>SUDESTE</td>\n",
       "      <td>ESPIRITO SANTO</td>\n",
       "      <td>GASOLINA COMUM</td>\n",
       "      <td>116</td>\n",
       "      <td>R$/l</td>\n",
       "      <td>4.703</td>\n",
       "      <td>0.131</td>\n",
       "      <td>4.470</td>\n",
       "      <td>4.999</td>\n",
       "      <td>0.523</td>\n",
       "      <td>0.028</td>\n",
       "      <td>4.18</td>\n",
       "      <td>0.048</td>\n",
       "      <td>4.0671</td>\n",
       "      <td>4.3085</td>\n",
       "      <td>0.011</td>\n",
       "    </tr>\n",
       "    <tr>\n",
       "      <th>110766</th>\n",
       "      <td>2019-12-29</td>\n",
       "      <td>2020-01-04</td>\n",
       "      <td>CENTRO OESTE</td>\n",
       "      <td>GOIAS</td>\n",
       "      <td>GASOLINA COMUM</td>\n",
       "      <td>225</td>\n",
       "      <td>R$/l</td>\n",
       "      <td>4.741</td>\n",
       "      <td>0.113</td>\n",
       "      <td>4.490</td>\n",
       "      <td>5.250</td>\n",
       "      <td>0.42</td>\n",
       "      <td>0.024</td>\n",
       "      <td>4.321</td>\n",
       "      <td>0.063</td>\n",
       "      <td>4.14</td>\n",
       "      <td>4.3922</td>\n",
       "      <td>0.015</td>\n",
       "    </tr>\n",
       "    <tr>\n",
       "      <th>110767</th>\n",
       "      <td>2019-12-29</td>\n",
       "      <td>2020-01-04</td>\n",
       "      <td>NORDESTE</td>\n",
       "      <td>MARANHAO</td>\n",
       "      <td>GASOLINA COMUM</td>\n",
       "      <td>120</td>\n",
       "      <td>R$/l</td>\n",
       "      <td>4.447</td>\n",
       "      <td>0.217</td>\n",
       "      <td>4.259</td>\n",
       "      <td>4.990</td>\n",
       "      <td>0.354</td>\n",
       "      <td>0.049</td>\n",
       "      <td>4.093</td>\n",
       "      <td>0.145</td>\n",
       "      <td>3.7359</td>\n",
       "      <td>4.2569</td>\n",
       "      <td>0.035</td>\n",
       "    </tr>\n",
       "  </tbody>\n",
       "</table>\n",
       "</div>"
      ],
      "text/plain": [
       "       DATA INICIAL DATA FINAL        REGIÃO            ESTADO  \\\n",
       "110758   2019-12-29 2020-01-04         NORTE              ACRE   \n",
       "110759   2019-12-29 2020-01-04      NORDESTE           ALAGOAS   \n",
       "110760   2019-12-29 2020-01-04         NORTE             AMAPA   \n",
       "110761   2019-12-29 2020-01-04         NORTE          AMAZONAS   \n",
       "110762   2019-12-29 2020-01-04      NORDESTE             BAHIA   \n",
       "110763   2019-12-29 2020-01-04      NORDESTE             CEARA   \n",
       "110764   2019-12-29 2020-01-04  CENTRO OESTE  DISTRITO FEDERAL   \n",
       "110765   2019-12-29 2020-01-04       SUDESTE    ESPIRITO SANTO   \n",
       "110766   2019-12-29 2020-01-04  CENTRO OESTE             GOIAS   \n",
       "110767   2019-12-29 2020-01-04      NORDESTE          MARANHAO   \n",
       "\n",
       "               PRODUTO  NÚMERO DE POSTOS PESQUISADOS UNIDADE DE MEDIDA  \\\n",
       "110758  GASOLINA COMUM                            39              R$/l   \n",
       "110759  GASOLINA COMUM                            57              R$/l   \n",
       "110760  GASOLINA COMUM                            28              R$/l   \n",
       "110761  GASOLINA COMUM                            75              R$/l   \n",
       "110762  GASOLINA COMUM                           336              R$/l   \n",
       "110763  GASOLINA COMUM                           218              R$/l   \n",
       "110764  GASOLINA COMUM                            47              R$/l   \n",
       "110765  GASOLINA COMUM                           116              R$/l   \n",
       "110766  GASOLINA COMUM                           225              R$/l   \n",
       "110767  GASOLINA COMUM                           120              R$/l   \n",
       "\n",
       "        PREÇO MÉDIO REVENDA  DESVIO PADRÃO REVENDA  PREÇO MÍNIMO REVENDA  \\\n",
       "110758                4.914                  0.109                 4.770   \n",
       "110759                4.554                  0.230                 4.259   \n",
       "110760                4.026                  0.123                 3.900   \n",
       "110761                4.042                  0.484                 3.859   \n",
       "110762                4.712                  0.144                 4.390   \n",
       "110763                4.695                  0.078                 4.390   \n",
       "110764                4.503                  0.097                 4.299   \n",
       "110765                4.703                  0.131                 4.470   \n",
       "110766                4.741                  0.113                 4.490   \n",
       "110767                4.447                  0.217                 4.259   \n",
       "\n",
       "        PREÇO MÁXIMO REVENDA MARGEM MÉDIA REVENDA  COEF DE VARIAÇÃO REVENDA  \\\n",
       "110758                 5.200                0.614                     0.022   \n",
       "110759                 5.110                0.339                     0.051   \n",
       "110760                 4.490                0.183                     0.031   \n",
       "110761                 5.350                0.258                     0.120   \n",
       "110762                 5.199                0.612                     0.031   \n",
       "110763                 4.959                0.475                     0.017   \n",
       "110764                 4.699                0.301                     0.022   \n",
       "110765                 4.999                0.523                     0.028   \n",
       "110766                 5.250                 0.42                     0.024   \n",
       "110767                 4.990                0.354                     0.049   \n",
       "\n",
       "       PREÇO MÉDIO DISTRIBUIÇÃO DESVIO PADRÃO DISTRIBUIÇÃO  \\\n",
       "110758                      4.3                      0.074   \n",
       "110759                    4.215                      0.058   \n",
       "110760                    3.843                      0.031   \n",
       "110761                    3.784                      0.142   \n",
       "110762                      4.1                      0.081   \n",
       "110763                     4.22                       0.06   \n",
       "110764                    4.202                      0.061   \n",
       "110765                     4.18                      0.048   \n",
       "110766                    4.321                      0.063   \n",
       "110767                    4.093                      0.145   \n",
       "\n",
       "       PREÇO MÍNIMO DISTRIBUIÇÃO PREÇO MÁXIMO DISTRIBUIÇÃO  \\\n",
       "110758                     4.202                    4.4089   \n",
       "110759                    4.0914                    4.3189   \n",
       "110760                    3.8062                    3.8857   \n",
       "110761                      3.69                       4.2   \n",
       "110762                      3.96                     4.446   \n",
       "110763                    3.9989                    4.3282   \n",
       "110764                     4.075                    4.2805   \n",
       "110765                    4.0671                    4.3085   \n",
       "110766                      4.14                    4.3922   \n",
       "110767                    3.7359                    4.2569   \n",
       "\n",
       "       COEF DE VARIAÇÃO DISTRIBUIÇÃO  \n",
       "110758                         0.017  \n",
       "110759                         0.014  \n",
       "110760                         0.008  \n",
       "110761                         0.038  \n",
       "110762                          0.02  \n",
       "110763                         0.014  \n",
       "110764                         0.015  \n",
       "110765                         0.011  \n",
       "110766                         0.015  \n",
       "110767                         0.035  "
      ]
     },
     "execution_count": 33,
     "metadata": {},
     "output_type": "execute_result"
    }
   ],
   "source": [
    "# subdataset com dados desejados\n",
    "\n",
    "gas_2020 = data[(data['PRODUTO'] == 'GASOLINA COMUM') &\n",
    "                (data['DATA FINAL'].dt.year == 2020)].copy(deep=True)\n",
    "\n",
    "gas_2020.head(10)"
   ]
  },
  {
   "cell_type": "code",
   "execution_count": 36,
   "metadata": {},
   "outputs": [
    {
     "data": {
      "text/plain": [
       "count    1188.000000\n",
       "mean        4.299587\n",
       "std         0.368116\n",
       "min         2.945000\n",
       "25%         4.036750\n",
       "50%         4.332000\n",
       "75%         4.577500\n",
       "max         5.106000\n",
       "Name: PREÇO MÉDIO REVENDA, dtype: float64"
      ]
     },
     "execution_count": 36,
     "metadata": {},
     "output_type": "execute_result"
    }
   ],
   "source": [
    "# Usaremos o método describe para obter alguns dos dados desejados\n",
    "\n",
    "gas_2020['PREÇO MÉDIO REVENDA'].describe()"
   ]
  },
  {
   "cell_type": "code",
   "execution_count": 37,
   "metadata": {},
   "outputs": [
    {
     "data": {
      "text/plain": [
       "4.332"
      ]
     },
     "execution_count": 37,
     "metadata": {},
     "output_type": "execute_result"
    }
   ],
   "source": [
    "# Mediana\n",
    "\n",
    "gas_2020['PREÇO MÉDIO REVENDA'].median()"
   ]
  },
  {
   "cell_type": "code",
   "execution_count": 74,
   "metadata": {},
   "outputs": [
    {
     "data": {
      "text/plain": [
       "-0.46141514313492055"
      ]
     },
     "execution_count": 74,
     "metadata": {},
     "output_type": "execute_result"
    }
   ],
   "source": [
    "# Assimetria\n",
    "\n",
    "skew(gas_2020['PREÇO MÉDIO REVENDA'])"
   ]
  },
  {
   "cell_type": "markdown",
   "metadata": {},
   "source": [
    "Nota-se que os dados possuem assimetria negativa, indicando cauda longa à esquerda \n",
    "com média menor que mediana (conforme já mostrado) e mediana menor que a moda (conforme\n",
    "será mostrado a seguir). Isso mostra que a cauda do lado esquerdo possui maior influência \n",
    "sobre a média do que a cauda do lado direito. Dessa forma, podemos assumir que a  distribuição\n",
    "dos dados é não-normal, nos levando a conclusão de que os preços da gasolina nos diferentes estados \n",
    "sofre influência de diferentes fatores inerentes a cada estado."
   ]
  },
  {
   "cell_type": "code",
   "execution_count": 75,
   "metadata": {},
   "outputs": [
    {
     "data": {
      "text/plain": [
       "0    4.187\n",
       "1    4.188\n",
       "2    4.350\n",
       "3    4.450\n",
       "4    4.475\n",
       "5    4.492\n",
       "6    4.597\n",
       "Name: PREÇO MÉDIO REVENDA, dtype: float64"
      ]
     },
     "execution_count": 75,
     "metadata": {},
     "output_type": "execute_result"
    }
   ],
   "source": [
    "gas_2020['PREÇO MÉDIO REVENDA'].mode()"
   ]
  },
  {
   "cell_type": "markdown",
   "metadata": {},
   "source": [
    "Nota-se que apenas dois valores da moda são menores que a mediana, algo já esperado; além\n",
    "disso, nota-se que possuimos 7 valores de moda, indicando que esses valores repetem-se em mesma frequência máxima."
   ]
  },
  {
   "cell_type": "markdown",
   "metadata": {},
   "source": [
    "Agora adotaremos uma abordagem visual, mostrando um gráfico dos preços médios\n",
    "por estado, e destacando qual estado possui média menor que a média nacional."
   ]
  },
  {
   "cell_type": "code",
   "execution_count": 60,
   "metadata": {},
   "outputs": [
    {
     "data": {
      "image/png": "[encoded data removed]",
      "text/plain": [
       "<Figure size 1800x600 with 1 Axes>"
      ]
     },
     "metadata": {},
     "output_type": "display_data"
    }
   ],
   "source": [
    "plt.figure(figsize=(18, 6))\n",
    "gas_2020.groupby('ESTADO')['PREÇO MÉDIO REVENDA'].mean().plot(kind='bar')\n",
    "plt.title(\"Preço Médio de Revenda por Estado em 2020\")\n",
    "plt.xlabel(\"Estado\")\n",
    "plt.xticks(rotation=60)\n",
    "plt.axhline(gas_2020['PREÇO MÉDIO REVENDA'].mean(), linestyle='--', color='r')\n",
    "plt.ylabel(\"Preço Médio de Revenda\")\n",
    "plt.show()"
   ]
  },
  {
   "cell_type": "markdown",
   "metadata": {},
   "source": [
    "Agora, faremos um boxplot para analisar  a distribuição de valores\n",
    "e procurar por outliers"
   ]
  },
  {
   "cell_type": "code",
   "execution_count": 64,
   "metadata": {},
   "outputs": [
    {
     "data": {
      "text/plain": [
       "<Axes: >"
      ]
     },
     "execution_count": 64,
     "metadata": {},
     "output_type": "execute_result"
    },
    {
     "data": {
      "image/png": "[encoded data removed]",
      "text/plain": [
       "<Figure size 640x480 with 1 Axes>"
      ]
     },
     "metadata": {},
     "output_type": "display_data"
    }
   ],
   "source": [
    "gas_2020['PREÇO MÉDIO REVENDA'].plot(kind='box')"
   ]
  },
  {
   "cell_type": "markdown",
   "metadata": {},
   "source": [
    "Nota-se a presença de alguns outliers no intervalo inferior, indicando\n",
    "que alguns estados possuem (ou possuíram) preços bem menores que a média.\n",
    "\n",
    "Para melhor visualização, faremos um displot destacando a média"
   ]
  },
  {
   "cell_type": "code",
   "execution_count": 70,
   "metadata": {},
   "outputs": [
    {
     "name": "stderr",
     "output_type": "stream",
     "text": [
      "/home/luanfabiomg/anaconda3/lib/python3.11/site-packages/seaborn/_oldcore.py:1119: FutureWarning: use_inf_as_na option is deprecated and will be removed in a future version. Convert inf values to NaN before operating instead.\n",
      "  with pd.option_context('mode.use_inf_as_na', True):\n"
     ]
    },
    {
     "data": {
      "text/plain": [
       "<matplotlib.lines.Line2D at 0x7f7c466a3ed0>"
      ]
     },
     "execution_count": 70,
     "metadata": {},
     "output_type": "execute_result"
    },
    {
     "data": {
      "image/png": "[encoded data removed]",
      "text/plain": [
       "<Figure size 500x500 with 1 Axes>"
      ]
     },
     "metadata": {},
     "output_type": "display_data"
    }
   ],
   "source": [
    "sns.displot(gas_2020['PREÇO MÉDIO REVENDA'], kde=True)\n",
    "plt.axvline(gas_2020['PREÇO MÉDIO REVENDA'].mean(), linestyle='--', color='r')"
   ]
  },
  {
   "cell_type": "markdown",
   "metadata": {},
   "source": [
    "Por fim, calcularemos a correlação de Pearson entre os preços médios de revenda da gasolina \n",
    "e do etanol em 2020"
   ]
  },
  {
   "cell_type": "code",
   "execution_count": 85,
   "metadata": {},
   "outputs": [
    {
     "data": {
      "text/plain": [
       "0.24499358477621475"
      ]
     },
     "execution_count": 85,
     "metadata": {},
     "output_type": "execute_result"
    }
   ],
   "source": [
    "gasolina = data[(data['PRODUTO'] == 'GASOLINA COMUM') & (data['DATA FINAL'].dt.year == 2020)]\n",
    "etanol = data[(data['PRODUTO'] == 'ETANOL HIDRATADO') & (data['DATA FINAL'].dt.year == 2020)]\n",
    "\n",
    "# Remover valores ausentes e redefinir índice para alinhar as séries\n",
    "gasolina = gasolina['PREÇO MÉDIO REVENDA'].dropna().reset_index(drop=True)\n",
    "etanol = etanol['PREÇO MÉDIO REVENDA'].dropna().reset_index(drop=True)\n",
    "\n",
    "# Calcular a correlação de Pearson\n",
    "gasolina.corr(etanol, method='pearson')"
   ]
  },
  {
   "cell_type": "markdown",
   "metadata": {},
   "source": [
    "Uma correlação de 0,2449 indica uma correlação positiva fraca entre as duas variáveis. Isso significa que há uma tendência de que os valores das duas variáveis aumentem ou diminuam juntos, mas a relação não é muito forte, algo que é esperado, dado que a gasolina e o etanol são combustíveis com origens diferentes, logo, seus preços não devem influenciar um no outro consideravelmente."
   ]
  }
 ],
 "metadata": {
  "kernelspec": {
   "display_name": "base",
   "language": "python",
   "name": "python3"
  },
  "language_info": {
   "codemirror_mode": {
    "name": "ipython",
    "version": 3
   },
   "file_extension": ".py",
   "mimetype": "text/x-python",
   "name": "python",
   "nbconvert_exporter": "python",
   "pygments_lexer": "ipython3",
   "version": "3.11.6"
  }
 },
 "nbformat": 4,
 "nbformat_minor": 2
}
